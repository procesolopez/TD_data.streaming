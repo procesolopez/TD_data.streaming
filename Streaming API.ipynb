{
 "cells": [
  {
   "cell_type": "code",
   "execution_count": 1,
   "id": "a40adf35",
   "metadata": {},
   "outputs": [],
   "source": [
    "import time\n",
    "import requests\n",
    "import urllib\n",
    "import json\n",
    "from datetime import datetime\n",
    "import dateutil.parser\n",
    "from splinter import Browser\n",
    "from tosConfig import consumerKey, passWord, userName\n",
    "from tdAuthen import accesstoken"
   ]
  },
  {
   "cell_type": "code",
   "execution_count": 2,
   "id": "04f6d0ab",
   "metadata": {},
   "outputs": [
    {
     "name": "stdout",
     "output_type": "stream",
     "text": [
      "Pulled Code, grabbing access token....\n"
     ]
    }
   ],
   "source": [
    "authen_data = accesstoken(consumerKey = consumerKey, passWord = passWord, userName = userName)"
   ]
  },
  {
   "cell_type": "code",
   "execution_count": 3,
   "id": "e9aa558e",
   "metadata": {},
   "outputs": [],
   "source": [
    "import datetime\n",
    "def unix_time_millis(dt):\n",
    "    epoch = datetime.datetime.utcfromtimestamp(0)\n",
    "    return (dt - epoch).total_seconds() * 1000.0"
   ]
  },
  {
   "cell_type": "code",
   "execution_count": 4,
   "id": "307bdc50",
   "metadata": {},
   "outputs": [],
   "source": [
    "# define endpoint which is the User Principles emdpoint\n",
    "\n",
    "endpoint = 'https://api.tdameritrade.com/v1/userprincipals'\n",
    "headers = {'Authorization':'Bearer {}'.format(authen_data['access_token'])}\n",
    "\n",
    "# define the paramenters for the endpoint\n",
    "params = {'fields': 'streamerSubscriptionKeys,streamerConnectionInfo'}\n",
    "\n",
    "# make a requests\n",
    "content = requests.get(url = endpoint, params = params, headers = headers)\n",
    "userPrincipalsResponse = content.json()\n",
    "\n",
    "# defining items needed to make requests to login\n",
    "tokenTimeStamp = userPrincipalsResponse['streamerInfo']['tokenTimestamp']\n",
    "date = dateutil.parser.parse(tokenTimeStamp, ignoretz = True)\n",
    "tokenTimeStampAsMs = unix_time_millis(date)\n",
    "\n",
    "credentials = {'userid':userPrincipalsResponse['accounts'][0]['accountId'],\n",
    "              'token':userPrincipalsResponse['streamerInfo']['token'],\n",
    "              'company':userPrincipalsResponse['accounts'][0]['company'],\n",
    "              'segment':userPrincipalsResponse['accounts'][0]['segment'],\n",
    "              'cddomain':userPrincipalsResponse['accounts'][0]['accountCdDomainId'],\n",
    "              'usergroup':userPrincipalsResponse['streamerInfo']['userGroup'],\n",
    "                'accesslevel': userPrincipalsResponse['streamerInfo']['accessLevel'],\n",
    "              'authorized':'Y',\n",
    "              'timestamp':int(tokenTimeStampAsMs),\n",
    "              'appid':userPrincipalsResponse['streamerInfo']['appId'],\n",
    "              'acl':userPrincipalsResponse['streamerInfo']['acl']}"
   ]
  },
  {
   "cell_type": "code",
   "execution_count": 5,
   "id": "5807a24c",
   "metadata": {},
   "outputs": [],
   "source": [
    "# defining login request\n",
    "login_request = {\"requests\":[{\"service\": \"ADMIN\",\n",
    "                              \"requestid\": \"0\",\n",
    "                              \"command\": \"LOGIN\",\n",
    "                              \"account\":userPrincipalsResponse['accounts'][0]['accountId'],\n",
    "                              \"source\":userPrincipalsResponse['streamerInfo']['appId'],\n",
    "                              \"parameters\": {\"credential\": urllib.parse.urlencode(credentials),\n",
    "                                             \"token\":userPrincipalsResponse['streamerInfo']['token'],\n",
    "                                             \"version\": \"1.0\"}}]}\n",
    "\n",
    "data_request = {\"request\": [{\"service\":\"TIMESALE_EQUITY\",\n",
    "                                 \"requestid\": \"1\",\n",
    "                                \"command\": \"SUBS\",\n",
    "                                \"account\":userPrincipalsResponse['accounts'][0]['accountId'],\n",
    "                                \"source\": userPrincipalsResponse['streamerInfo']['appId'],\n",
    "                                \"parameters\": {\n",
    "                                \"keys\": \"AAPL\",\n",
    "                                \"fields\": \"0,1,2,3,4\"}}]} \n",
    "\n",
    "login_encoded = json.dumps(login_request)\n",
    "data_encoded = json.dumps(data_request)"
   ]
  },
  {
   "cell_type": "code",
   "execution_count": 18,
   "id": "a4d9e5fb",
   "metadata": {
    "scrolled": true
   },
   "outputs": [
    {
     "name": "stderr",
     "output_type": "stream",
     "text": [
      "Task exception was never retrieved\n",
      "future: <Task finished name='Task-53' coro=<WebSocketClient.receiveMessage() done, defined at C:\\Users\\lopez\\AppData\\Local\\Temp/ipykernel_5140/2290595976.py:42> exception=RuntimeError('cannot call recv while another coroutine is already waiting for the next message')>\n",
      "Traceback (most recent call last):\n",
      "  File \"C:\\Users\\lopez\\anaconda3\\lib\\asyncio\\tasks.py\", line 280, in __step\n",
      "    result = coro.send(None)\n",
      "  File \"C:\\Users\\lopez\\AppData\\Local\\Temp/ipykernel_5140/2290595976.py\", line 47, in receiveMessage\n",
      "    message = await connection.recv()\n",
      "  File \"C:\\Users\\lopez\\anaconda3\\lib\\site-packages\\websockets\\legacy\\protocol.py\", line 516, in recv\n",
      "    raise RuntimeError(\n",
      "RuntimeError: cannot call recv while another coroutine is already waiting for the next message\n",
      "Task exception was never retrieved\n",
      "future: <Task finished name='Task-55' coro=<WebSocketClient.receiveMessage() done, defined at C:\\Users\\lopez\\AppData\\Local\\Temp/ipykernel_5140/2290595976.py:42> exception=RuntimeError('cannot call recv while another coroutine is already waiting for the next message')>\n",
      "Traceback (most recent call last):\n",
      "  File \"C:\\Users\\lopez\\anaconda3\\lib\\asyncio\\tasks.py\", line 280, in __step\n",
      "    result = coro.send(None)\n",
      "  File \"C:\\Users\\lopez\\AppData\\Local\\Temp/ipykernel_5140/2290595976.py\", line 47, in receiveMessage\n",
      "    message = await connection.recv()\n",
      "  File \"C:\\Users\\lopez\\anaconda3\\lib\\site-packages\\websockets\\legacy\\protocol.py\", line 516, in recv\n",
      "    raise RuntimeError(\n",
      "RuntimeError: cannot call recv while another coroutine is already waiting for the next message\n"
     ]
    }
   ],
   "source": [
    "import websockets\n",
    "import websocket\n",
    "import asyncio\n",
    "\n",
    "# This connects to the database\n",
    "\n",
    "class WebSocketClient():\n",
    "    \n",
    "    def __init__(self):\n",
    "        self.data_holder = []\n",
    "        self.file = open('td_data.txt', 'a')\n",
    "    \n",
    "# #     def database_connection(self):\n",
    "# #         server = 'SERVER_NAME'\n",
    "# #         databse = 'DATABASE_NAME'\n",
    "# #         sql_driver = '{ODBC Driver 17 for SQL Servers}'\n",
    "# # #     def database_connect(self)\n",
    "# # #     server = 'blah'\n",
    "# # #     database = ''\n",
    "\n",
    "    \n",
    "    def csv_insert(self, data_tuple):\n",
    "        data = date_tuple\n",
    "        file = open('td_data.txt','a')\n",
    "        file.write(data_tuple)\n",
    "        file.close()\n",
    "    \n",
    "    async def connect(self):\n",
    "        uri = \"wss://\" + userPrincipalsResponse['streamerInfo']['streamerSocketUrl'] + '/ws'\n",
    "        self.connection = await websockets.client.connect(uri, compression = None)\n",
    "        \n",
    "        if self.connection.open:\n",
    "            print(\"Connection established. Client correctly connected\")\n",
    "            return self.connection\n",
    "        \n",
    "    \n",
    "    async def sendMessage(self, message):\n",
    "        \n",
    "        await self.connection.send(message)\n",
    "        \n",
    "    \n",
    "    async def receiveMessage(self, connection):\n",
    "        \n",
    "        while True: \n",
    "            try:\n",
    "#                 grab and decode the message\n",
    "                message = await connection.recv()\n",
    "                \n",
    "#                 if message == null:\n",
    "#                     sleep(5)\n",
    "                \n",
    "                message_decoded = json.loads(message)\n",
    "          \n",
    "                if 'data' in message_decoded.keys():\n",
    "                    \n",
    "                    # grab the data\n",
    "                    data = message_decoded['data'][0]\n",
    "                    data_tuple = (data['service'], str(data['timestamp']), data['command'])\n",
    "                    \n",
    "                    # insert the data\n",
    "#                     self.csv_insert(data_tuple)\n",
    "                \n",
    "                print('-'*20)\n",
    "                print('Recieved message from server: ' + str(message)) \n",
    "                \n",
    "            except websockets.exceptions.ConnectionClosed:\n",
    "                print('Connection with server closed')\n",
    "                break\n",
    "    \n",
    "    async def heartbeat(self, connection):\n",
    "        \n",
    "        while True:\n",
    "            try: \n",
    "                await connection.send('ping')\n",
    "                await asyncio.sleep(5)\n",
    "            except websockets.exceptions.ConnectionClosed:\n",
    "                print('Connection with server closed')\n",
    "                break\n"
   ]
  },
  {
   "cell_type": "code",
   "execution_count": 17,
   "id": "5671342b",
   "metadata": {},
   "outputs": [
    {
     "name": "stdout",
     "output_type": "stream",
     "text": [
      "Connection established. Client correctly connected\n",
      "--------------------\n",
      "Recieved message from server: {\"response\":[{\"service\":\"ADMIN\",\"requestid\":\"0\",\"command\":\"LOGIN\",\"timestamp\":1633367851759,\"content\":{\"code\":0,\"msg\":\"06-3\"}}]}\n",
      "Connection with server closed\n"
     ]
    }
   ],
   "source": [
    "import nest_asyncio\n",
    "from websockets import client\n",
    "nest_asyncio.apply()\n",
    "\n",
    "if __name__ == '__main__':\n",
    "    \n",
    "    # Creating client object\n",
    "    client = WebSocketClient()\n",
    "    \n",
    "    loop = asyncio.get_event_loop()\n",
    "    \n",
    "    # Start connection and get client connection protocol\n",
    "    connection = loop.run_until_complete(client.connect())\n",
    "    \n",
    "    # Start listener and heartbeat \n",
    "    tasks = [asyncio.ensure_future(client.receiveMessage(connection)),\n",
    "             asyncio.ensure_future(client.sendMessage(login_encoded)),\n",
    "             asyncio.ensure_future(client.receiveMessage(connection)),\n",
    "             asyncio.ensure_future(client.sendMessage(data_encoded)),\n",
    "             asyncio.ensure_future(client.receiveMessage(connection))]\n",
    "\n",
    "    \n",
    "    loop.run_until_complete(asyncio.wait(tasks))"
   ]
  },
  {
   "cell_type": "code",
   "execution_count": null,
   "id": "dc4f9ced",
   "metadata": {},
   "outputs": [],
   "source": []
  }
 ],
 "metadata": {
  "kernelspec": {
   "display_name": "Python 3 (ipykernel)",
   "language": "python",
   "name": "python3"
  },
  "language_info": {
   "codemirror_mode": {
    "name": "ipython",
    "version": 3
   },
   "file_extension": ".py",
   "mimetype": "text/x-python",
   "name": "python",
   "nbconvert_exporter": "python",
   "pygments_lexer": "ipython3",
   "version": "3.8.8"
  }
 },
 "nbformat": 4,
 "nbformat_minor": 5
}
