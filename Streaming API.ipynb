{
 "cells": [
  {
   "cell_type": "code",
   "execution_count": 1,
   "id": "a40adf35",
   "metadata": {},
   "outputs": [],
   "source": [
    "import time\n",
    "import requests\n",
    "import urllib\n",
    "import json\n",
    "from datetime import datetime\n",
    "import dateutil.parser\n",
    "from splinter import Browser\n",
    "from tosConfig import consumerKey, passWord, userName\n",
    "from tdAuthen import accesstoken"
   ]
  },
  {
   "cell_type": "code",
   "execution_count": 2,
   "id": "04f6d0ab",
   "metadata": {},
   "outputs": [
    {
     "name": "stdout",
     "output_type": "stream",
     "text": [
      "Pulled Code, grabbing access token....\n"
     ]
    }
   ],
   "source": [
    "authen_data = accesstoken(consumerKey = consumerKey, passWord = passWord, userName = userName)"
   ]
  },
  {
   "cell_type": "code",
   "execution_count": 3,
   "id": "e9aa558e",
   "metadata": {},
   "outputs": [],
   "source": [
    "import datetime\n",
    "def unix_time_millis(dt):\n",
    "    epoch = datetime.datetime.utcfromtimestamp(0)\n",
    "    return (dt - epoch).total_seconds() * 1000.0"
   ]
  },
  {
   "cell_type": "code",
   "execution_count": 4,
   "id": "307bdc50",
   "metadata": {},
   "outputs": [],
   "source": [
    "# define endpoint which is the User Principles emdpoint\n",
    "\n",
    "endpoint = 'https://api.tdameritrade.com/v1/userprincipals'\n",
    "headers = {'Authorization':'Bearer {}'.format(authen_data['access_token'])}\n",
    "\n",
    "# define the paramenters for the endpoint\n",
    "params = {'fields': 'streamerSubscriptionKeys,streamerConnectionInfo'}\n",
    "\n",
    "# make a requests\n",
    "content = requests.get(url = endpoint, params = params, headers = headers)\n",
    "userPrincipalsResponse = content.json()\n",
    "\n",
    "# defining items needed to make requests to login\n",
    "tokenTimeStamp = userPrincipalsResponse['streamerInfo']['tokenTimestamp']\n",
    "date = dateutil.parser.parse(tokenTimeStamp, ignoretz = True)\n",
    "tokenTimeStampAsMs = unix_time_millis(date)\n",
    "\n",
    "credentials = {'userid':userPrincipalsResponse['accounts'][0]['accountId'],\n",
    "              'token':userPrincipalsResponse['streamerInfo']['token'],\n",
    "              'company':userPrincipalsResponse['accounts'][0]['company'],\n",
    "              'segment':userPrincipalsResponse['accounts'][0]['segment'],\n",
    "              'cddomain':userPrincipalsResponse['accounts'][0]['accountCdDomainId'],\n",
    "              'usergroup':userPrincipalsResponse['streamerInfo']['userGroup'],\n",
    "                'accesslevel': userPrincipalsResponse['streamerInfo']['accessLevel'],\n",
    "              'authorized':'Y',\n",
    "              'timestamp':int(tokenTimeStampAsMs),\n",
    "              'appid':userPrincipalsResponse['streamerInfo']['appId'],\n",
    "              'acl':userPrincipalsResponse['streamerInfo']['acl']}\n",
    "\n"
   ]
  },
  {
   "cell_type": "code",
   "execution_count": 38,
   "id": "5807a24c",
   "metadata": {},
   "outputs": [
    {
     "data": {
      "text/plain": [
       "'{\"requests\": [{\"service\": \"ADMIN\", \"requestid\": \"0\", \"command\": \"LOGIN\", \"account\": \"496550006\", \"source\": \"lopezproceso\", \"parameters\": {\"credential\": \"userid=496550006&token=5427eef86c90c51b74252a4507c1f43748275a61&company=AMER&segment=ADVNCED&cddomain=A000000077544124&usergroup=ACCT&accesslevel=ACCT&authorized=Y&timestamp=1632441166000&appid=lopezproceso&acl=AKBPCNCVDRDTDWESF7G1G3G5G7GKGLH1H3H5LTM1MAMROLPNQSRFSDTETFTOTTUAURXBXNXOD2D4D6D8E2E4E6E8F2F4F6H7I1\", \"token\": \"5427eef86c90c51b74252a4507c1f43748275a61\", \"version\": \"1.0\"}}]}'"
      ]
     },
     "execution_count": 38,
     "metadata": {},
     "output_type": "execute_result"
    }
   ],
   "source": [
    "# defining login request\n",
    "login_request = {\"requests\":[{\"service\": \"ADMIN\",\n",
    "                              \"requestid\": \"0\",\n",
    "                              \"command\": \"LOGIN\",\n",
    "                              \"account\":userPrincipalsResponse['accounts'][0]['accountId'],\n",
    "                              \"source\":userPrincipalsResponse['streamerInfo']['appId'],\n",
    "                              \"parameters\": {\"credential\": urllib.parse.urlencode(credentials),\n",
    "                                             \"token\":userPrincipalsResponse['streamerInfo']['token'],\n",
    "                                             \"version\": \"1.0\"}}]}\n",
    "\n",
    "data_request = {\"request\": [{\"service\":\"TIMESALE_EQUITY\",\n",
    "                                 \"requestid\": \"1\",\n",
    "                                \"command\": \"SUBS\",\n",
    "                                \"account\":userPrincipalsResponse['accounts'][0]['accountId'],\n",
    "                                \"source\": userPrincipalsResponse['streamerInfo']['appId'],\n",
    "                                \"parameters\": {\n",
    "                                \"keys\": \"AAPL\",\n",
    "                                \"fields\": \"0, 1,2,3,4\"}}]} \n",
    "\n",
    "login_encoded = json.dumps(login_request)\n",
    "data_encoded = json.dumps(data_request)"
   ]
  },
  {
   "cell_type": "code",
   "execution_count": 50,
   "id": "a4d9e5fb",
   "metadata": {},
   "outputs": [],
   "source": [
    "import websockets\n",
    "from websockets import client\n",
    "import asyncio\n",
    "# This connects to the database\n",
    "class WebSocketClient():\n",
    "    \n",
    "    def __init__(self):\n",
    "        self.data_holder = []\n",
    "        self.file = open('td_data.txt', 'a')\n",
    "    \n",
    "# #     def database_connection(self):\n",
    "# #         server = 'SERVER_NAME'\n",
    "# #         databse = 'DATABASE_NAME'\n",
    "# #         sql_driver = '{ODBC Driver 17 for SQL Servers}'\n",
    "# # #     def database_connect(self)\n",
    "# # #     server = 'blah'\n",
    "# # #     database = ''\n",
    "\n",
    "    \n",
    "    def csv_insert(self, data_tuple):\n",
    "        data = date_tuple\n",
    "        file = open('td_data.txt','w')\n",
    "        file.write(data_tuple)\n",
    "        file.close()\n",
    "    \n",
    "    async def connect(self):\n",
    "        \n",
    "        uri = \"wss://\" + userPrincipalsResponse['streamerInfo']['streamerSocketUrl']\n",
    "        self.connection = await websockets.client.connect(uri)\n",
    "        if self.connection.open:\n",
    "            print(\"Connection established. Client correctly connected\")\n",
    "            return self.connection\n",
    "    \n",
    "#     async def sendMessage(self, message):\n",
    "#         await self.connection.send(message)\n",
    "        \n",
    "    \n",
    "#     async def receiveMessage(self, connection):\n",
    "        \n",
    "#         while True: \n",
    "            \n",
    "#             try:\n",
    "#                 #grab and decode the message\n",
    "#                 message = await connection.recv()\n",
    "#                 message_decoded = json.loads(message)\n",
    "                \n",
    "#                 if 'data' in message_decoded.keys():\n",
    "                    \n",
    "#                     # grab the data\n",
    "#                     data = message_decoded['data'][0]\n",
    "#                     data_tuple = (data['service'], str(data['timestamp']), data['command'])\n",
    "                    \n",
    "#                     # insert the data\n",
    "#                     self.csv_insert(data_tuple)\n",
    "                \n",
    "#                 print('-'*20)\n",
    "#                 print('Recieved message from server: ' + str(message))\n",
    "                \n",
    "                \n",
    "#             except websockets.exceptions.ConnectionClosed:\n",
    "#                 print('Connection with server closed')\n",
    "#                 break\n",
    "    \n",
    "#     async def heartbeat(self, connection):\n",
    "#         while True:\n",
    "#             try: \n",
    "#                 await connection.send('ping')\n",
    "#                 await asyncio.sleep(5)\n",
    "#             except websockets.exceptions.ConnectionClosed:\n",
    "#                 print('Connection with server closed')\n",
    "#                 break\n"
   ]
  },
  {
   "cell_type": "code",
   "execution_count": 51,
   "id": "5671342b",
   "metadata": {},
   "outputs": [
    {
     "ename": "InvalidStatusCode",
     "evalue": "server rejected WebSocket connection: HTTP 404",
     "output_type": "error",
     "traceback": [
      "\u001b[1;31m---------------------------------------------------------------------------\u001b[0m",
      "\u001b[1;31mInvalidStatusCode\u001b[0m                         Traceback (most recent call last)",
      "\u001b[1;32m~\\AppData\\Local\\Temp/ipykernel_9876/3411396384.py\u001b[0m in \u001b[0;36m<module>\u001b[1;34m\u001b[0m\n\u001b[0;32m     11\u001b[0m \u001b[1;33m\u001b[0m\u001b[0m\n\u001b[0;32m     12\u001b[0m     \u001b[1;31m# Start connection and get client connection protocol\u001b[0m\u001b[1;33m\u001b[0m\u001b[1;33m\u001b[0m\u001b[1;33m\u001b[0m\u001b[0m\n\u001b[1;32m---> 13\u001b[1;33m     \u001b[0mconnection\u001b[0m \u001b[1;33m=\u001b[0m \u001b[0mloop\u001b[0m\u001b[1;33m.\u001b[0m\u001b[0mrun_until_complete\u001b[0m\u001b[1;33m(\u001b[0m\u001b[0mclient\u001b[0m\u001b[1;33m.\u001b[0m\u001b[0mconnect\u001b[0m\u001b[1;33m(\u001b[0m\u001b[1;33m)\u001b[0m\u001b[1;33m)\u001b[0m\u001b[1;33m\u001b[0m\u001b[1;33m\u001b[0m\u001b[0m\n\u001b[0m\u001b[0;32m     14\u001b[0m \u001b[1;33m\u001b[0m\u001b[0m\n\u001b[0;32m     15\u001b[0m     \u001b[1;31m# Start listener and heartbeat\u001b[0m\u001b[1;33m\u001b[0m\u001b[1;33m\u001b[0m\u001b[1;33m\u001b[0m\u001b[0m\n",
      "\u001b[1;32m~\\anaconda3\\lib\\site-packages\\nest_asyncio.py\u001b[0m in \u001b[0;36mrun_until_complete\u001b[1;34m(self, future)\u001b[0m\n\u001b[0;32m     68\u001b[0m                 raise RuntimeError(\n\u001b[0;32m     69\u001b[0m                     'Event loop stopped before Future completed.')\n\u001b[1;32m---> 70\u001b[1;33m             \u001b[1;32mreturn\u001b[0m \u001b[0mf\u001b[0m\u001b[1;33m.\u001b[0m\u001b[0mresult\u001b[0m\u001b[1;33m(\u001b[0m\u001b[1;33m)\u001b[0m\u001b[1;33m\u001b[0m\u001b[1;33m\u001b[0m\u001b[0m\n\u001b[0m\u001b[0;32m     71\u001b[0m \u001b[1;33m\u001b[0m\u001b[0m\n\u001b[0;32m     72\u001b[0m     \u001b[1;32mdef\u001b[0m \u001b[0m_run_once\u001b[0m\u001b[1;33m(\u001b[0m\u001b[0mself\u001b[0m\u001b[1;33m)\u001b[0m\u001b[1;33m:\u001b[0m\u001b[1;33m\u001b[0m\u001b[1;33m\u001b[0m\u001b[0m\n",
      "\u001b[1;32m~\\anaconda3\\lib\\asyncio\\futures.py\u001b[0m in \u001b[0;36mresult\u001b[1;34m(self)\u001b[0m\n\u001b[0;32m    176\u001b[0m         \u001b[0mself\u001b[0m\u001b[1;33m.\u001b[0m\u001b[0m__log_traceback\u001b[0m \u001b[1;33m=\u001b[0m \u001b[1;32mFalse\u001b[0m\u001b[1;33m\u001b[0m\u001b[1;33m\u001b[0m\u001b[0m\n\u001b[0;32m    177\u001b[0m         \u001b[1;32mif\u001b[0m \u001b[0mself\u001b[0m\u001b[1;33m.\u001b[0m\u001b[0m_exception\u001b[0m \u001b[1;32mis\u001b[0m \u001b[1;32mnot\u001b[0m \u001b[1;32mNone\u001b[0m\u001b[1;33m:\u001b[0m\u001b[1;33m\u001b[0m\u001b[1;33m\u001b[0m\u001b[0m\n\u001b[1;32m--> 178\u001b[1;33m             \u001b[1;32mraise\u001b[0m \u001b[0mself\u001b[0m\u001b[1;33m.\u001b[0m\u001b[0m_exception\u001b[0m\u001b[1;33m\u001b[0m\u001b[1;33m\u001b[0m\u001b[0m\n\u001b[0m\u001b[0;32m    179\u001b[0m         \u001b[1;32mreturn\u001b[0m \u001b[0mself\u001b[0m\u001b[1;33m.\u001b[0m\u001b[0m_result\u001b[0m\u001b[1;33m\u001b[0m\u001b[1;33m\u001b[0m\u001b[0m\n\u001b[0;32m    180\u001b[0m \u001b[1;33m\u001b[0m\u001b[0m\n",
      "\u001b[1;32m~\\anaconda3\\lib\\asyncio\\tasks.py\u001b[0m in \u001b[0;36m__step\u001b[1;34m(***failed resolving arguments***)\u001b[0m\n\u001b[0;32m    278\u001b[0m                 \u001b[1;31m# We use the `send` method directly, because coroutines\u001b[0m\u001b[1;33m\u001b[0m\u001b[1;33m\u001b[0m\u001b[1;33m\u001b[0m\u001b[0m\n\u001b[0;32m    279\u001b[0m                 \u001b[1;31m# don't have `__iter__` and `__next__` methods.\u001b[0m\u001b[1;33m\u001b[0m\u001b[1;33m\u001b[0m\u001b[1;33m\u001b[0m\u001b[0m\n\u001b[1;32m--> 280\u001b[1;33m                 \u001b[0mresult\u001b[0m \u001b[1;33m=\u001b[0m \u001b[0mcoro\u001b[0m\u001b[1;33m.\u001b[0m\u001b[0msend\u001b[0m\u001b[1;33m(\u001b[0m\u001b[1;32mNone\u001b[0m\u001b[1;33m)\u001b[0m\u001b[1;33m\u001b[0m\u001b[1;33m\u001b[0m\u001b[0m\n\u001b[0m\u001b[0;32m    281\u001b[0m             \u001b[1;32melse\u001b[0m\u001b[1;33m:\u001b[0m\u001b[1;33m\u001b[0m\u001b[1;33m\u001b[0m\u001b[0m\n\u001b[0;32m    282\u001b[0m                 \u001b[0mresult\u001b[0m \u001b[1;33m=\u001b[0m \u001b[0mcoro\u001b[0m\u001b[1;33m.\u001b[0m\u001b[0mthrow\u001b[0m\u001b[1;33m(\u001b[0m\u001b[0mexc\u001b[0m\u001b[1;33m)\u001b[0m\u001b[1;33m\u001b[0m\u001b[1;33m\u001b[0m\u001b[0m\n",
      "\u001b[1;32m~\\AppData\\Local\\Temp/ipykernel_9876/3744275861.py\u001b[0m in \u001b[0;36mconnect\u001b[1;34m(self)\u001b[0m\n\u001b[0;32m     27\u001b[0m \u001b[1;33m\u001b[0m\u001b[0m\n\u001b[0;32m     28\u001b[0m         \u001b[0muri\u001b[0m \u001b[1;33m=\u001b[0m \u001b[1;34m\"wss://\"\u001b[0m \u001b[1;33m+\u001b[0m \u001b[0muserPrincipalsResponse\u001b[0m\u001b[1;33m[\u001b[0m\u001b[1;34m'streamerInfo'\u001b[0m\u001b[1;33m]\u001b[0m\u001b[1;33m[\u001b[0m\u001b[1;34m'streamerSocketUrl'\u001b[0m\u001b[1;33m]\u001b[0m\u001b[1;33m\u001b[0m\u001b[1;33m\u001b[0m\u001b[0m\n\u001b[1;32m---> 29\u001b[1;33m         \u001b[0mself\u001b[0m\u001b[1;33m.\u001b[0m\u001b[0mconnection\u001b[0m \u001b[1;33m=\u001b[0m \u001b[1;32mawait\u001b[0m \u001b[0mwebsockets\u001b[0m\u001b[1;33m.\u001b[0m\u001b[0mclient\u001b[0m\u001b[1;33m.\u001b[0m\u001b[0mconnect\u001b[0m\u001b[1;33m(\u001b[0m\u001b[0muri\u001b[0m\u001b[1;33m)\u001b[0m\u001b[1;33m\u001b[0m\u001b[1;33m\u001b[0m\u001b[0m\n\u001b[0m\u001b[0;32m     30\u001b[0m         \u001b[1;32mif\u001b[0m \u001b[0mself\u001b[0m\u001b[1;33m.\u001b[0m\u001b[0mconnection\u001b[0m\u001b[1;33m.\u001b[0m\u001b[0mopen\u001b[0m\u001b[1;33m:\u001b[0m\u001b[1;33m\u001b[0m\u001b[1;33m\u001b[0m\u001b[0m\n\u001b[0;32m     31\u001b[0m             \u001b[0mprint\u001b[0m\u001b[1;33m(\u001b[0m\u001b[1;34m\"Connection established. Client correctly connected\"\u001b[0m\u001b[1;33m)\u001b[0m\u001b[1;33m\u001b[0m\u001b[1;33m\u001b[0m\u001b[0m\n",
      "\u001b[1;32m~\\anaconda3\\lib\\site-packages\\websockets\\legacy\\client.py\u001b[0m in \u001b[0;36m__await_impl_timeout__\u001b[1;34m(self)\u001b[0m\n\u001b[0;32m    647\u001b[0m \u001b[1;33m\u001b[0m\u001b[0m\n\u001b[0;32m    648\u001b[0m     \u001b[1;32masync\u001b[0m \u001b[1;32mdef\u001b[0m \u001b[0m__await_impl_timeout__\u001b[0m\u001b[1;33m(\u001b[0m\u001b[0mself\u001b[0m\u001b[1;33m)\u001b[0m \u001b[1;33m->\u001b[0m \u001b[0mWebSocketClientProtocol\u001b[0m\u001b[1;33m:\u001b[0m\u001b[1;33m\u001b[0m\u001b[1;33m\u001b[0m\u001b[0m\n\u001b[1;32m--> 649\u001b[1;33m         \u001b[1;32mreturn\u001b[0m \u001b[1;32mawait\u001b[0m \u001b[0masyncio\u001b[0m\u001b[1;33m.\u001b[0m\u001b[0mwait_for\u001b[0m\u001b[1;33m(\u001b[0m\u001b[0mself\u001b[0m\u001b[1;33m.\u001b[0m\u001b[0m__await_impl__\u001b[0m\u001b[1;33m(\u001b[0m\u001b[1;33m)\u001b[0m\u001b[1;33m,\u001b[0m \u001b[0mself\u001b[0m\u001b[1;33m.\u001b[0m\u001b[0mopen_timeout\u001b[0m\u001b[1;33m)\u001b[0m\u001b[1;33m\u001b[0m\u001b[1;33m\u001b[0m\u001b[0m\n\u001b[0m\u001b[0;32m    650\u001b[0m \u001b[1;33m\u001b[0m\u001b[0m\n\u001b[0;32m    651\u001b[0m     \u001b[1;32masync\u001b[0m \u001b[1;32mdef\u001b[0m \u001b[0m__await_impl__\u001b[0m\u001b[1;33m(\u001b[0m\u001b[0mself\u001b[0m\u001b[1;33m)\u001b[0m \u001b[1;33m->\u001b[0m \u001b[0mWebSocketClientProtocol\u001b[0m\u001b[1;33m:\u001b[0m\u001b[1;33m\u001b[0m\u001b[1;33m\u001b[0m\u001b[0m\n",
      "\u001b[1;32m~\\anaconda3\\lib\\asyncio\\tasks.py\u001b[0m in \u001b[0;36mwait_for\u001b[1;34m(fut, timeout, loop)\u001b[0m\n\u001b[0;32m    492\u001b[0m \u001b[1;33m\u001b[0m\u001b[0m\n\u001b[0;32m    493\u001b[0m         \u001b[1;32mif\u001b[0m \u001b[0mfut\u001b[0m\u001b[1;33m.\u001b[0m\u001b[0mdone\u001b[0m\u001b[1;33m(\u001b[0m\u001b[1;33m)\u001b[0m\u001b[1;33m:\u001b[0m\u001b[1;33m\u001b[0m\u001b[1;33m\u001b[0m\u001b[0m\n\u001b[1;32m--> 494\u001b[1;33m             \u001b[1;32mreturn\u001b[0m \u001b[0mfut\u001b[0m\u001b[1;33m.\u001b[0m\u001b[0mresult\u001b[0m\u001b[1;33m(\u001b[0m\u001b[1;33m)\u001b[0m\u001b[1;33m\u001b[0m\u001b[1;33m\u001b[0m\u001b[0m\n\u001b[0m\u001b[0;32m    495\u001b[0m         \u001b[1;32melse\u001b[0m\u001b[1;33m:\u001b[0m\u001b[1;33m\u001b[0m\u001b[1;33m\u001b[0m\u001b[0m\n\u001b[0;32m    496\u001b[0m             \u001b[0mfut\u001b[0m\u001b[1;33m.\u001b[0m\u001b[0mremove_done_callback\u001b[0m\u001b[1;33m(\u001b[0m\u001b[0mcb\u001b[0m\u001b[1;33m)\u001b[0m\u001b[1;33m\u001b[0m\u001b[1;33m\u001b[0m\u001b[0m\n",
      "\u001b[1;32m~\\anaconda3\\lib\\asyncio\\futures.py\u001b[0m in \u001b[0;36mresult\u001b[1;34m(self)\u001b[0m\n\u001b[0;32m    176\u001b[0m         \u001b[0mself\u001b[0m\u001b[1;33m.\u001b[0m\u001b[0m__log_traceback\u001b[0m \u001b[1;33m=\u001b[0m \u001b[1;32mFalse\u001b[0m\u001b[1;33m\u001b[0m\u001b[1;33m\u001b[0m\u001b[0m\n\u001b[0;32m    177\u001b[0m         \u001b[1;32mif\u001b[0m \u001b[0mself\u001b[0m\u001b[1;33m.\u001b[0m\u001b[0m_exception\u001b[0m \u001b[1;32mis\u001b[0m \u001b[1;32mnot\u001b[0m \u001b[1;32mNone\u001b[0m\u001b[1;33m:\u001b[0m\u001b[1;33m\u001b[0m\u001b[1;33m\u001b[0m\u001b[0m\n\u001b[1;32m--> 178\u001b[1;33m             \u001b[1;32mraise\u001b[0m \u001b[0mself\u001b[0m\u001b[1;33m.\u001b[0m\u001b[0m_exception\u001b[0m\u001b[1;33m\u001b[0m\u001b[1;33m\u001b[0m\u001b[0m\n\u001b[0m\u001b[0;32m    179\u001b[0m         \u001b[1;32mreturn\u001b[0m \u001b[0mself\u001b[0m\u001b[1;33m.\u001b[0m\u001b[0m_result\u001b[0m\u001b[1;33m\u001b[0m\u001b[1;33m\u001b[0m\u001b[0m\n\u001b[0;32m    180\u001b[0m \u001b[1;33m\u001b[0m\u001b[0m\n",
      "\u001b[1;32m~\\anaconda3\\lib\\asyncio\\tasks.py\u001b[0m in \u001b[0;36m__step\u001b[1;34m(***failed resolving arguments***)\u001b[0m\n\u001b[0;32m    278\u001b[0m                 \u001b[1;31m# We use the `send` method directly, because coroutines\u001b[0m\u001b[1;33m\u001b[0m\u001b[1;33m\u001b[0m\u001b[1;33m\u001b[0m\u001b[0m\n\u001b[0;32m    279\u001b[0m                 \u001b[1;31m# don't have `__iter__` and `__next__` methods.\u001b[0m\u001b[1;33m\u001b[0m\u001b[1;33m\u001b[0m\u001b[1;33m\u001b[0m\u001b[0m\n\u001b[1;32m--> 280\u001b[1;33m                 \u001b[0mresult\u001b[0m \u001b[1;33m=\u001b[0m \u001b[0mcoro\u001b[0m\u001b[1;33m.\u001b[0m\u001b[0msend\u001b[0m\u001b[1;33m(\u001b[0m\u001b[1;32mNone\u001b[0m\u001b[1;33m)\u001b[0m\u001b[1;33m\u001b[0m\u001b[1;33m\u001b[0m\u001b[0m\n\u001b[0m\u001b[0;32m    281\u001b[0m             \u001b[1;32melse\u001b[0m\u001b[1;33m:\u001b[0m\u001b[1;33m\u001b[0m\u001b[1;33m\u001b[0m\u001b[0m\n\u001b[0;32m    282\u001b[0m                 \u001b[0mresult\u001b[0m \u001b[1;33m=\u001b[0m \u001b[0mcoro\u001b[0m\u001b[1;33m.\u001b[0m\u001b[0mthrow\u001b[0m\u001b[1;33m(\u001b[0m\u001b[0mexc\u001b[0m\u001b[1;33m)\u001b[0m\u001b[1;33m\u001b[0m\u001b[1;33m\u001b[0m\u001b[0m\n",
      "\u001b[1;32m~\\anaconda3\\lib\\site-packages\\websockets\\legacy\\client.py\u001b[0m in \u001b[0;36m__await_impl__\u001b[1;34m(self)\u001b[0m\n\u001b[0;32m    658\u001b[0m             \u001b[1;32mtry\u001b[0m\u001b[1;33m:\u001b[0m\u001b[1;33m\u001b[0m\u001b[1;33m\u001b[0m\u001b[0m\n\u001b[0;32m    659\u001b[0m                 \u001b[1;32mtry\u001b[0m\u001b[1;33m:\u001b[0m\u001b[1;33m\u001b[0m\u001b[1;33m\u001b[0m\u001b[0m\n\u001b[1;32m--> 660\u001b[1;33m                     await protocol.handshake(\n\u001b[0m\u001b[0;32m    661\u001b[0m                         \u001b[0mself\u001b[0m\u001b[1;33m.\u001b[0m\u001b[0m_wsuri\u001b[0m\u001b[1;33m,\u001b[0m\u001b[1;33m\u001b[0m\u001b[1;33m\u001b[0m\u001b[0m\n\u001b[0;32m    662\u001b[0m                         \u001b[0morigin\u001b[0m\u001b[1;33m=\u001b[0m\u001b[0mprotocol\u001b[0m\u001b[1;33m.\u001b[0m\u001b[0morigin\u001b[0m\u001b[1;33m,\u001b[0m\u001b[1;33m\u001b[0m\u001b[1;33m\u001b[0m\u001b[0m\n",
      "\u001b[1;32m~\\anaconda3\\lib\\site-packages\\websockets\\legacy\\client.py\u001b[0m in \u001b[0;36mhandshake\u001b[1;34m(self, wsuri, origin, available_extensions, available_subprotocols, extra_headers)\u001b[0m\n\u001b[0;32m    325\u001b[0m             \u001b[1;32mraise\u001b[0m \u001b[0mRedirectHandshake\u001b[0m\u001b[1;33m(\u001b[0m\u001b[0mresponse_headers\u001b[0m\u001b[1;33m[\u001b[0m\u001b[1;34m\"Location\"\u001b[0m\u001b[1;33m]\u001b[0m\u001b[1;33m)\u001b[0m\u001b[1;33m\u001b[0m\u001b[1;33m\u001b[0m\u001b[0m\n\u001b[0;32m    326\u001b[0m         \u001b[1;32melif\u001b[0m \u001b[0mstatus_code\u001b[0m \u001b[1;33m!=\u001b[0m \u001b[1;36m101\u001b[0m\u001b[1;33m:\u001b[0m\u001b[1;33m\u001b[0m\u001b[1;33m\u001b[0m\u001b[0m\n\u001b[1;32m--> 327\u001b[1;33m             \u001b[1;32mraise\u001b[0m \u001b[0mInvalidStatusCode\u001b[0m\u001b[1;33m(\u001b[0m\u001b[0mstatus_code\u001b[0m\u001b[1;33m,\u001b[0m \u001b[0mresponse_headers\u001b[0m\u001b[1;33m)\u001b[0m\u001b[1;33m\u001b[0m\u001b[1;33m\u001b[0m\u001b[0m\n\u001b[0m\u001b[0;32m    328\u001b[0m \u001b[1;33m\u001b[0m\u001b[0m\n\u001b[0;32m    329\u001b[0m         \u001b[0mcheck_response\u001b[0m\u001b[1;33m(\u001b[0m\u001b[0mresponse_headers\u001b[0m\u001b[1;33m,\u001b[0m \u001b[0mkey\u001b[0m\u001b[1;33m)\u001b[0m\u001b[1;33m\u001b[0m\u001b[1;33m\u001b[0m\u001b[0m\n",
      "\u001b[1;31mInvalidStatusCode\u001b[0m: server rejected WebSocket connection: HTTP 404"
     ]
    }
   ],
   "source": [
    "import nest_asyncio\n",
    "nest_asyncio.apply()\n",
    "\n",
    "\n",
    "if __name__ == '__main__':\n",
    "    \n",
    "    # Creating client object\n",
    "    client = WebSocketClient()\n",
    "    \n",
    "    loop = asyncio.get_event_loop()\n",
    "    \n",
    "    # Start connection and get client connection protocol\n",
    "    connection = loop.run_until_complete(client.connect())\n",
    "    \n",
    "    # Start listener and heartbeat \n",
    "    tasks = [asyncio.ensure_future(client.receiveMessage(connection)),\n",
    "             asyncio.ensure_future(client.sendMessage(login_encoded)),\n",
    "             asyncio.ensure_future(client.receiveMessage(connection)),\n",
    "             asyncio.ensure_future(client.sendMessage(data_encoded)),\n",
    "             asyncio.ensure_future(client.receiveMessage(connection))]\n",
    "\n",
    "    loop.run_until_complete(asyncio.wait(tasks))"
   ]
  },
  {
   "cell_type": "code",
   "execution_count": null,
   "id": "d9c10861",
   "metadata": {},
   "outputs": [],
   "source": []
  }
 ],
 "metadata": {
  "kernelspec": {
   "display_name": "Python 3 (ipykernel)",
   "language": "python",
   "name": "python3"
  },
  "language_info": {
   "codemirror_mode": {
    "name": "ipython",
    "version": 3
   },
   "file_extension": ".py",
   "mimetype": "text/x-python",
   "name": "python",
   "nbconvert_exporter": "python",
   "pygments_lexer": "ipython3",
   "version": "3.8.8"
  }
 },
 "nbformat": 4,
 "nbformat_minor": 5
}
